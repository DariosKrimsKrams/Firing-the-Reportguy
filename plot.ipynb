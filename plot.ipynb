{
 "cells": [
  {
   "cell_type": "code",
   "execution_count": 1,
   "id": "adb22772",
   "metadata": {},
   "outputs": [],
   "source": [
    "import matplotlib.pyplot as plt\n",
    "\n",
    "from src.data_ag.exchange_rate import  get_exchange_rate\n",
    "from src.data_ag.ids import Adm0CodeManager"
   ]
  },
  {
   "cell_type": "code",
   "execution_count": 2,
   "id": "9a69e7da",
   "metadata": {},
   "outputs": [
    {
     "name": "stdout",
     "output_type": "stream",
     "text": [
      "adm0_code: 238\n"
     ]
    }
   ],
   "source": [
    "adm_manager = Adm0CodeManager()\n",
    "country_name = \"Syrian Arab Republic\"\n",
    "adm0_code = adm_manager.get_code_for_country(country_name)\n",
    "print(f\"adm0_code: {adm0_code}\")\n",
    "\n",
    "start_date=\"2023-01-01\"\n",
    "end_date=\"2025-04-30\"\n"
   ]
  },
  {
   "cell_type": "markdown",
   "id": "4eb3da7c",
   "metadata": {},
   "source": [
    "## exchange rates"
   ]
  },
  {
   "cell_type": "code",
   "execution_count": 3,
   "id": "0c0a8b19",
   "metadata": {},
   "outputs": [
    {
     "name": "stdout",
     "output_type": "stream",
     "text": [
      "Loading cached CSV from ./cache/download_exchange_rates_f5c768186c63b64e4f45eae2281d73dd.csv\n",
      "Loading cached CSV from ./cache/download_exchange_rates_60509a4f27499adc2eff089d556fe168.csv\n"
     ]
    },
    {
     "data": {
      "application/vnd.microsoft.datawrangler.viewer.v0+json": {
       "columns": [
        {
         "name": "index",
         "rawType": "int64",
         "type": "integer"
        },
        {
         "name": "IndicatorType",
         "rawType": "object",
         "type": "string"
        },
        {
         "name": "CountryName",
         "rawType": "object",
         "type": "string"
        },
        {
         "name": "MarketName",
         "rawType": "object",
         "type": "string"
        },
        {
         "name": "CurrencyCode",
         "rawType": "object",
         "type": "string"
        },
        {
         "name": "Date",
         "rawType": "datetime64[ns]",
         "type": "datetime"
        },
        {
         "name": "Value",
         "rawType": "float64",
         "type": "float"
        },
        {
         "name": "SourceOfTheData",
         "rawType": "object",
         "type": "string"
        }
       ],
       "conversionMethod": "pd.DataFrame",
       "ref": "3b94d4f0-68a0-4c7f-ab0d-ddf7c2f53e1b",
       "rows": [
        [
         "10106",
         "Parallel",
         "Syrian Arab Republic",
         "Maskanah",
         "SYP",
         "2023-02-06 00:00:00",
         "7300.0",
         "WFP Syria CO"
        ],
        [
         "10107",
         "Parallel",
         "Syrian Arab Republic",
         "Al Kom",
         "SYP",
         "2023-02-06 00:00:00",
         "7150.0",
         "WFP Syria CO"
        ],
        [
         "10108",
         "Parallel",
         "Syrian Arab Republic",
         "Harem",
         "SYP",
         "2023-02-06 00:00:00",
         "6850.0",
         "WFP Syria CO"
        ],
        [
         "10109",
         "Parallel",
         "Syrian Arab Republic",
         "Jisr al shughur",
         "SYP",
         "2023-02-06 00:00:00",
         "6700.0",
         "WFP Syria CO"
        ],
        [
         "10110",
         "Parallel",
         "Syrian Arab Republic",
         "Bu Kamal",
         "SYP",
         "2023-02-06 00:00:00",
         "6770.0",
         "WFP Syria CO"
        ]
       ],
       "shape": {
        "columns": 7,
        "rows": 5
       }
      },
      "text/html": [
       "<div>\n",
       "<style scoped>\n",
       "    .dataframe tbody tr th:only-of-type {\n",
       "        vertical-align: middle;\n",
       "    }\n",
       "\n",
       "    .dataframe tbody tr th {\n",
       "        vertical-align: top;\n",
       "    }\n",
       "\n",
       "    .dataframe thead th {\n",
       "        text-align: right;\n",
       "    }\n",
       "</style>\n",
       "<table border=\"1\" class=\"dataframe\">\n",
       "  <thead>\n",
       "    <tr style=\"text-align: right;\">\n",
       "      <th></th>\n",
       "      <th>IndicatorType</th>\n",
       "      <th>CountryName</th>\n",
       "      <th>MarketName</th>\n",
       "      <th>CurrencyCode</th>\n",
       "      <th>Date</th>\n",
       "      <th>Value</th>\n",
       "      <th>SourceOfTheData</th>\n",
       "    </tr>\n",
       "  </thead>\n",
       "  <tbody>\n",
       "    <tr>\n",
       "      <th>10106</th>\n",
       "      <td>Parallel</td>\n",
       "      <td>Syrian Arab Republic</td>\n",
       "      <td>Maskanah</td>\n",
       "      <td>SYP</td>\n",
       "      <td>2023-02-06</td>\n",
       "      <td>7300.0</td>\n",
       "      <td>WFP Syria CO</td>\n",
       "    </tr>\n",
       "    <tr>\n",
       "      <th>10107</th>\n",
       "      <td>Parallel</td>\n",
       "      <td>Syrian Arab Republic</td>\n",
       "      <td>Al Kom</td>\n",
       "      <td>SYP</td>\n",
       "      <td>2023-02-06</td>\n",
       "      <td>7150.0</td>\n",
       "      <td>WFP Syria CO</td>\n",
       "    </tr>\n",
       "    <tr>\n",
       "      <th>10108</th>\n",
       "      <td>Parallel</td>\n",
       "      <td>Syrian Arab Republic</td>\n",
       "      <td>Harem</td>\n",
       "      <td>SYP</td>\n",
       "      <td>2023-02-06</td>\n",
       "      <td>6850.0</td>\n",
       "      <td>WFP Syria CO</td>\n",
       "    </tr>\n",
       "    <tr>\n",
       "      <th>10109</th>\n",
       "      <td>Parallel</td>\n",
       "      <td>Syrian Arab Republic</td>\n",
       "      <td>Jisr al shughur</td>\n",
       "      <td>SYP</td>\n",
       "      <td>2023-02-06</td>\n",
       "      <td>6700.0</td>\n",
       "      <td>WFP Syria CO</td>\n",
       "    </tr>\n",
       "    <tr>\n",
       "      <th>10110</th>\n",
       "      <td>Parallel</td>\n",
       "      <td>Syrian Arab Republic</td>\n",
       "      <td>Bu Kamal</td>\n",
       "      <td>SYP</td>\n",
       "      <td>2023-02-06</td>\n",
       "      <td>6770.0</td>\n",
       "      <td>WFP Syria CO</td>\n",
       "    </tr>\n",
       "  </tbody>\n",
       "</table>\n",
       "</div>"
      ],
      "text/plain": [
       "      IndicatorType           CountryName       MarketName CurrencyCode  \\\n",
       "10106      Parallel  Syrian Arab Republic         Maskanah          SYP   \n",
       "10107      Parallel  Syrian Arab Republic           Al Kom          SYP   \n",
       "10108      Parallel  Syrian Arab Republic            Harem          SYP   \n",
       "10109      Parallel  Syrian Arab Republic  Jisr al shughur          SYP   \n",
       "10110      Parallel  Syrian Arab Republic         Bu Kamal          SYP   \n",
       "\n",
       "            Date   Value SourceOfTheData  \n",
       "10106 2023-02-06  7300.0    WFP Syria CO  \n",
       "10107 2023-02-06  7150.0    WFP Syria CO  \n",
       "10108 2023-02-06  6850.0    WFP Syria CO  \n",
       "10109 2023-02-06  6700.0    WFP Syria CO  \n",
       "10110 2023-02-06  6770.0    WFP Syria CO  "
      ]
     },
     "execution_count": 3,
     "metadata": {},
     "output_type": "execute_result"
    }
   ],
   "source": [
    "official_exchange_rate = get_exchange_rate(start_date, end_date, adm0_code, rate_type=\"Official\")\n",
    "parallel_exchange_rate = get_exchange_rate(start_date, end_date, adm0_code, rate_type=\"Parallel\")\n",
    "\n",
    "parallel_exchange_rate.head()"
   ]
  },
  {
   "cell_type": "code",
   "execution_count": 4,
   "id": "8213e185",
   "metadata": {},
   "outputs": [
    {
     "data": {
      "application/vnd.microsoft.datawrangler.viewer.v0+json": {
       "columns": [
        {
         "name": "Date",
         "rawType": "datetime64[ns]",
         "type": "datetime"
        },
        {
         "name": "mean",
         "rawType": "float64",
         "type": "float"
        },
        {
         "name": "min",
         "rawType": "float64",
         "type": "float"
        },
        {
         "name": "max",
         "rawType": "float64",
         "type": "float"
        }
       ],
       "conversionMethod": "pd.DataFrame",
       "ref": "99468943-2523-41dd-b11e-ab8b9ec94102",
       "rows": [
        [
         "2023-02-28 00:00:00",
         "7106.407986111111",
         "6500.0",
         "7500.0"
        ],
        [
         "2023-03-31 00:00:00",
         "7471.532986111111",
         "7267.0",
         "7900.0"
        ],
        [
         "2023-04-30 00:00:00",
         null,
         null,
         null
        ],
        [
         "2023-05-31 00:00:00",
         "8724.17592546584",
         "8100.0",
         "9072.619"
        ],
        [
         "2023-06-30 00:00:00",
         "8861.173076923076",
         "8600.0",
         "9000.0"
        ]
       ],
       "shape": {
        "columns": 3,
        "rows": 5
       }
      },
      "text/html": [
       "<div>\n",
       "<style scoped>\n",
       "    .dataframe tbody tr th:only-of-type {\n",
       "        vertical-align: middle;\n",
       "    }\n",
       "\n",
       "    .dataframe tbody tr th {\n",
       "        vertical-align: top;\n",
       "    }\n",
       "\n",
       "    .dataframe thead th {\n",
       "        text-align: right;\n",
       "    }\n",
       "</style>\n",
       "<table border=\"1\" class=\"dataframe\">\n",
       "  <thead>\n",
       "    <tr style=\"text-align: right;\">\n",
       "      <th></th>\n",
       "      <th>mean</th>\n",
       "      <th>min</th>\n",
       "      <th>max</th>\n",
       "    </tr>\n",
       "    <tr>\n",
       "      <th>Date</th>\n",
       "      <th></th>\n",
       "      <th></th>\n",
       "      <th></th>\n",
       "    </tr>\n",
       "  </thead>\n",
       "  <tbody>\n",
       "    <tr>\n",
       "      <th>2023-02-28</th>\n",
       "      <td>7106.407986</td>\n",
       "      <td>6500.0</td>\n",
       "      <td>7500.000</td>\n",
       "    </tr>\n",
       "    <tr>\n",
       "      <th>2023-03-31</th>\n",
       "      <td>7471.532986</td>\n",
       "      <td>7267.0</td>\n",
       "      <td>7900.000</td>\n",
       "    </tr>\n",
       "    <tr>\n",
       "      <th>2023-04-30</th>\n",
       "      <td>NaN</td>\n",
       "      <td>NaN</td>\n",
       "      <td>NaN</td>\n",
       "    </tr>\n",
       "    <tr>\n",
       "      <th>2023-05-31</th>\n",
       "      <td>8724.175925</td>\n",
       "      <td>8100.0</td>\n",
       "      <td>9072.619</td>\n",
       "    </tr>\n",
       "    <tr>\n",
       "      <th>2023-06-30</th>\n",
       "      <td>8861.173077</td>\n",
       "      <td>8600.0</td>\n",
       "      <td>9000.000</td>\n",
       "    </tr>\n",
       "  </tbody>\n",
       "</table>\n",
       "</div>"
      ],
      "text/plain": [
       "                   mean     min       max\n",
       "Date                                     \n",
       "2023-02-28  7106.407986  6500.0  7500.000\n",
       "2023-03-31  7471.532986  7267.0  7900.000\n",
       "2023-04-30          NaN     NaN       NaN\n",
       "2023-05-31  8724.175925  8100.0  9072.619\n",
       "2023-06-30  8861.173077  8600.0  9000.000"
      ]
     },
     "execution_count": 4,
     "metadata": {},
     "output_type": "execute_result"
    }
   ],
   "source": [
    "import pandas as pd\n",
    "import matplotlib.pyplot as plt\n",
    "import matplotlib.dates as mdates\n",
    "\n",
    "def preprocess_monthly(df, date_col='Date', value_col='Value'):\n",
    "    df = df.copy()\n",
    "    df[date_col] = pd.to_datetime(df[date_col], dayfirst=True)\n",
    "    df.set_index(date_col, inplace=True)\n",
    "    return df[value_col].resample('M').agg(['mean','min','max'])\n",
    "\n",
    "# build your monthly summaries\n",
    "official_monthly = preprocess_monthly(official_exchange_rate)\n",
    "parallel_monthly = preprocess_monthly(parallel_exchange_rate)\n",
    "\n",
    "parallel_monthly.head()\n"
   ]
  },
  {
   "cell_type": "code",
   "execution_count": 5,
   "id": "89941ff9",
   "metadata": {},
   "outputs": [
    {
     "data": {
      "application/vnd.microsoft.datawrangler.viewer.v0+json": {
       "columns": [
        {
         "name": "index",
         "rawType": "int64",
         "type": "integer"
        },
        {
         "name": "IndicatorType",
         "rawType": "object",
         "type": "string"
        },
        {
         "name": "CountryName",
         "rawType": "object",
         "type": "string"
        },
        {
         "name": "MarketName",
         "rawType": "float64",
         "type": "float"
        },
        {
         "name": "CurrencyCode",
         "rawType": "object",
         "type": "string"
        },
        {
         "name": "Date",
         "rawType": "datetime64[ns]",
         "type": "datetime"
        },
        {
         "name": "Value",
         "rawType": "float64",
         "type": "float"
        },
        {
         "name": "SourceOfTheData",
         "rawType": "object",
         "type": "string"
        }
       ],
       "conversionMethod": "pd.DataFrame",
       "ref": "60eb0baa-7e39-4880-8992-3cdae51e3877",
       "rows": [
        [
         "4012",
         "Official",
         "Syrian Arab Republic",
         null,
         "SYP",
         "2023-01-01 00:00:00",
         "2511.0",
         "Trading Economics"
        ],
        [
         "4013",
         "Official",
         "Syrian Arab Republic",
         null,
         "SYP",
         "2023-01-02 00:00:00",
         "2511.0",
         "Trading Economics"
        ],
        [
         "4014",
         "Official",
         "Syrian Arab Republic",
         null,
         "SYP",
         "2023-01-03 00:00:00",
         "2510.0",
         "Trading Economics"
        ],
        [
         "4015",
         "Official",
         "Syrian Arab Republic",
         null,
         "SYP",
         "2023-01-04 00:00:00",
         "2511.0",
         "Trading Economics"
        ],
        [
         "4016",
         "Official",
         "Syrian Arab Republic",
         null,
         "SYP",
         "2023-01-05 00:00:00",
         "2510.0",
         "Trading Economics"
        ]
       ],
       "shape": {
        "columns": 7,
        "rows": 5
       }
      },
      "text/html": [
       "<div>\n",
       "<style scoped>\n",
       "    .dataframe tbody tr th:only-of-type {\n",
       "        vertical-align: middle;\n",
       "    }\n",
       "\n",
       "    .dataframe tbody tr th {\n",
       "        vertical-align: top;\n",
       "    }\n",
       "\n",
       "    .dataframe thead th {\n",
       "        text-align: right;\n",
       "    }\n",
       "</style>\n",
       "<table border=\"1\" class=\"dataframe\">\n",
       "  <thead>\n",
       "    <tr style=\"text-align: right;\">\n",
       "      <th></th>\n",
       "      <th>IndicatorType</th>\n",
       "      <th>CountryName</th>\n",
       "      <th>MarketName</th>\n",
       "      <th>CurrencyCode</th>\n",
       "      <th>Date</th>\n",
       "      <th>Value</th>\n",
       "      <th>SourceOfTheData</th>\n",
       "    </tr>\n",
       "  </thead>\n",
       "  <tbody>\n",
       "    <tr>\n",
       "      <th>4012</th>\n",
       "      <td>Official</td>\n",
       "      <td>Syrian Arab Republic</td>\n",
       "      <td>NaN</td>\n",
       "      <td>SYP</td>\n",
       "      <td>2023-01-01</td>\n",
       "      <td>2511.0</td>\n",
       "      <td>Trading Economics</td>\n",
       "    </tr>\n",
       "    <tr>\n",
       "      <th>4013</th>\n",
       "      <td>Official</td>\n",
       "      <td>Syrian Arab Republic</td>\n",
       "      <td>NaN</td>\n",
       "      <td>SYP</td>\n",
       "      <td>2023-01-02</td>\n",
       "      <td>2511.0</td>\n",
       "      <td>Trading Economics</td>\n",
       "    </tr>\n",
       "    <tr>\n",
       "      <th>4014</th>\n",
       "      <td>Official</td>\n",
       "      <td>Syrian Arab Republic</td>\n",
       "      <td>NaN</td>\n",
       "      <td>SYP</td>\n",
       "      <td>2023-01-03</td>\n",
       "      <td>2510.0</td>\n",
       "      <td>Trading Economics</td>\n",
       "    </tr>\n",
       "    <tr>\n",
       "      <th>4015</th>\n",
       "      <td>Official</td>\n",
       "      <td>Syrian Arab Republic</td>\n",
       "      <td>NaN</td>\n",
       "      <td>SYP</td>\n",
       "      <td>2023-01-04</td>\n",
       "      <td>2511.0</td>\n",
       "      <td>Trading Economics</td>\n",
       "    </tr>\n",
       "    <tr>\n",
       "      <th>4016</th>\n",
       "      <td>Official</td>\n",
       "      <td>Syrian Arab Republic</td>\n",
       "      <td>NaN</td>\n",
       "      <td>SYP</td>\n",
       "      <td>2023-01-05</td>\n",
       "      <td>2510.0</td>\n",
       "      <td>Trading Economics</td>\n",
       "    </tr>\n",
       "  </tbody>\n",
       "</table>\n",
       "</div>"
      ],
      "text/plain": [
       "     IndicatorType           CountryName  MarketName CurrencyCode       Date  \\\n",
       "4012      Official  Syrian Arab Republic         NaN          SYP 2023-01-01   \n",
       "4013      Official  Syrian Arab Republic         NaN          SYP 2023-01-02   \n",
       "4014      Official  Syrian Arab Republic         NaN          SYP 2023-01-03   \n",
       "4015      Official  Syrian Arab Republic         NaN          SYP 2023-01-04   \n",
       "4016      Official  Syrian Arab Republic         NaN          SYP 2023-01-05   \n",
       "\n",
       "       Value    SourceOfTheData  \n",
       "4012  2511.0  Trading Economics  \n",
       "4013  2511.0  Trading Economics  \n",
       "4014  2510.0  Trading Economics  \n",
       "4015  2511.0  Trading Economics  \n",
       "4016  2510.0  Trading Economics  "
      ]
     },
     "execution_count": 5,
     "metadata": {},
     "output_type": "execute_result"
    }
   ],
   "source": [
    "official_exchange_rate.head()"
   ]
  },
  {
   "cell_type": "code",
   "execution_count": 6,
   "id": "835351fe",
   "metadata": {},
   "outputs": [
    {
     "data": {
      "image/png": "[encoded data removed]",
      "text/plain": [
       "<Figure size 1000x500 with 1 Axes>"
      ]
     },
     "metadata": {},
     "output_type": "display_data"
    }
   ],
   "source": [
    "\n",
    "\n",
    "fig, ax = plt.subplots(figsize=(10, 5))\n",
    "\n",
    "# Official\n",
    "y_off = official_monthly['mean']\n",
    "err_off = [y_off - official_monthly['min'], official_monthly['max'] - y_off]\n",
    "ax.errorbar(\n",
    "    official_monthly.index, y_off,\n",
    "    yerr=err_off,\n",
    "    marker='o', linestyle='-',\n",
    "    label='Official'\n",
    ")\n",
    "\n",
    "# Parallel\n",
    "y_par = parallel_monthly['mean']\n",
    "err_par = [y_par - parallel_monthly['min'], parallel_monthly['max'] - y_par]\n",
    "ax.errorbar(\n",
    "    parallel_monthly.index, y_par,\n",
    "    yerr=err_par,\n",
    "    marker='o', linestyle='-',\n",
    "    label='Parallel'\n",
    ")\n",
    "\n",
    "# formatting\n",
    "ax.set_xlabel('Month')\n",
    "ax.set_ylabel('Exchange Rate')\n",
    "ax.set_title('Monthly Exchange Rates (mean ± min/max)')\n",
    "ax.legend()\n",
    "\n",
    "# <— NEW: show every month on the x–axis\n",
    "ax.xaxis.set_major_locator(mdates.MonthLocator())              # one tick per month\n",
    "ax.xaxis.set_major_formatter(mdates.DateFormatter('%b %Y'))    # e.g. \"Apr 2025\"\n",
    "\n",
    "fig.autofmt_xdate()   # rotate & align\n",
    "plt.tight_layout()\n",
    "plt.show()\n"
   ]
  },
  {
   "cell_type": "markdown",
   "id": "111edb0b",
   "metadata": {},
   "source": [
    "## commodity prices"
   ]
  },
  {
   "cell_type": "code",
   "execution_count": 7,
   "id": "5ac91fc7",
   "metadata": {},
   "outputs": [
    {
     "name": "stdout",
     "output_type": "stream",
     "text": [
      "Loading cached CSV from ./cache/download_market_ids_950d4b254446d67ab0f3a1ea6e15cf16.csv\n",
      "Loading cached CSV from ./cache/download_market_assessment_dc00d899173ba73e6fd5afb84beafd71.csv\n"
     ]
    },
    {
     "data": {
      "application/vnd.microsoft.datawrangler.viewer.v0+json": {
       "columns": [
        {
         "name": "index",
         "rawType": "int64",
         "type": "integer"
        },
        {
         "name": "CountryName",
         "rawType": "object",
         "type": "string"
        },
        {
         "name": "Adm1Name",
         "rawType": "object",
         "type": "string"
        },
        {
         "name": "Adm2Name",
         "rawType": "object",
         "type": "string"
        },
        {
         "name": "MarketID",
         "rawType": "int64",
         "type": "integer"
        },
        {
         "name": "MarketName",
         "rawType": "object",
         "type": "string"
        },
        {
         "name": "SurveyID",
         "rawType": "int64",
         "type": "integer"
        },
        {
         "name": "SurveyDate",
         "rawType": "object",
         "type": "string"
        },
        {
         "name": "MFIRiskLevel",
         "rawType": "object",
         "type": "string"
        },
        {
         "name": "MFIScore",
         "rawType": "float64",
         "type": "float"
        },
        {
         "name": "Assortment",
         "rawType": "float64",
         "type": "float"
        },
        {
         "name": "Availability",
         "rawType": "float64",
         "type": "float"
        },
        {
         "name": "Price",
         "rawType": "float64",
         "type": "float"
        },
        {
         "name": "Resilience",
         "rawType": "float64",
         "type": "float"
        },
        {
         "name": "Competition",
         "rawType": "float64",
         "type": "float"
        },
        {
         "name": "Infrastructure",
         "rawType": "float64",
         "type": "float"
        },
        {
         "name": "Service",
         "rawType": "float64",
         "type": "float"
        },
        {
         "name": "Quality",
         "rawType": "float64",
         "type": "float"
        },
        {
         "name": "AccessProtection",
         "rawType": "float64",
         "type": "float"
        },
        {
         "name": "SurveyType",
         "rawType": "object",
         "type": "string"
        }
       ],
       "conversionMethod": "pd.DataFrame",
       "ref": "914936b4-d720-4de8-a069-34329b8d1973",
       "rows": [
        [
         "0",
         "Syrian Arab Republic",
         "Al-Hasakeh",
         "Quamishli",
         "1125",
         "Quamishli",
         "2791",
         "01/06/2023",
         "Very High Risk",
         "3.991675853729248",
         "5.0",
         "10.0",
         "0.0",
         "7.5",
         "10.0",
         "10.0",
         "5.0",
         "10.0",
         "10.0",
         "Full"
        ],
        [
         "1",
         "Syrian Arab Republic",
         "Deir-ez-Zor",
         "Al Mayadin",
         "5257",
         "Sbeikhan",
         "2791",
         "01/06/2023",
         "Very High Risk",
         "2.9308786392211914",
         "4.0",
         "8.333333015441895",
         "0.0",
         "7.5",
         "10.0",
         "5.714285850524902",
         "1.6666666269302368",
         "1.25",
         "10.0",
         "Full"
        ],
        [
         "2",
         "Syrian Arab Republic",
         "Rural Damascus",
         "Rural Damascus",
         "1354",
         "Jaramana",
         "2791",
         "01/06/2023",
         "Medium Risk",
         "5.278072357177734",
         "9.0",
         "10.0",
         "2.5",
         "7.5",
         "10.0",
         "7.142857074737549",
         "3.3333332538604736",
         "8.75",
         "10.0",
         "Full"
        ],
        [
         "3",
         "Syrian Arab Republic",
         "Al-Hasakeh",
         "Quamishli",
         "1125",
         "Quamishli",
         "4970",
         "22/01/2025",
         "Low Risk",
         "6.475244998931885",
         "5.0",
         "10.0",
         "5.0",
         "10.0",
         null,
         null,
         null,
         null,
         null,
         "Reduced"
        ],
        [
         "4",
         "Syrian Arab Republic",
         "Rural Damascus",
         "Rural Damascus",
         "2687",
         "Saqba",
         "2791",
         "01/06/2023",
         "Medium Risk",
         "6.055994033813477",
         "8.0",
         "10.0",
         "4.166666507720947",
         "7.5",
         "10.0",
         "6.428571224212647",
         "5.0",
         "6.25",
         "10.0",
         "Full"
        ]
       ],
       "shape": {
        "columns": 19,
        "rows": 5
       }
      },
      "text/html": [
       "<div>\n",
       "<style scoped>\n",
       "    .dataframe tbody tr th:only-of-type {\n",
       "        vertical-align: middle;\n",
       "    }\n",
       "\n",
       "    .dataframe tbody tr th {\n",
       "        vertical-align: top;\n",
       "    }\n",
       "\n",
       "    .dataframe thead th {\n",
       "        text-align: right;\n",
       "    }\n",
       "</style>\n",
       "<table border=\"1\" class=\"dataframe\">\n",
       "  <thead>\n",
       "    <tr style=\"text-align: right;\">\n",
       "      <th></th>\n",
       "      <th>CountryName</th>\n",
       "      <th>Adm1Name</th>\n",
       "      <th>Adm2Name</th>\n",
       "      <th>MarketID</th>\n",
       "      <th>MarketName</th>\n",
       "      <th>SurveyID</th>\n",
       "      <th>SurveyDate</th>\n",
       "      <th>MFIRiskLevel</th>\n",
       "      <th>MFIScore</th>\n",
       "      <th>Assortment</th>\n",
       "      <th>Availability</th>\n",
       "      <th>Price</th>\n",
       "      <th>Resilience</th>\n",
       "      <th>Competition</th>\n",
       "      <th>Infrastructure</th>\n",
       "      <th>Service</th>\n",
       "      <th>Quality</th>\n",
       "      <th>AccessProtection</th>\n",
       "      <th>SurveyType</th>\n",
       "    </tr>\n",
       "  </thead>\n",
       "  <tbody>\n",
       "    <tr>\n",
       "      <th>0</th>\n",
       "      <td>Syrian Arab Republic</td>\n",
       "      <td>Al-Hasakeh</td>\n",
       "      <td>Quamishli</td>\n",
       "      <td>1125</td>\n",
       "      <td>Quamishli</td>\n",
       "      <td>2791</td>\n",
       "      <td>01/06/2023</td>\n",
       "      <td>Very High Risk</td>\n",
       "      <td>3.991676</td>\n",
       "      <td>5.0</td>\n",
       "      <td>10.000000</td>\n",
       "      <td>0.000000</td>\n",
       "      <td>7.5</td>\n",
       "      <td>10.0</td>\n",
       "      <td>10.000000</td>\n",
       "      <td>5.000000</td>\n",
       "      <td>10.00</td>\n",
       "      <td>10.0</td>\n",
       "      <td>Full</td>\n",
       "    </tr>\n",
       "    <tr>\n",
       "      <th>1</th>\n",
       "      <td>Syrian Arab Republic</td>\n",
       "      <td>Deir-ez-Zor</td>\n",
       "      <td>Al Mayadin</td>\n",
       "      <td>5257</td>\n",
       "      <td>Sbeikhan</td>\n",
       "      <td>2791</td>\n",
       "      <td>01/06/2023</td>\n",
       "      <td>Very High Risk</td>\n",
       "      <td>2.930879</td>\n",
       "      <td>4.0</td>\n",
       "      <td>8.333333</td>\n",
       "      <td>0.000000</td>\n",
       "      <td>7.5</td>\n",
       "      <td>10.0</td>\n",
       "      <td>5.714286</td>\n",
       "      <td>1.666667</td>\n",
       "      <td>1.25</td>\n",
       "      <td>10.0</td>\n",
       "      <td>Full</td>\n",
       "    </tr>\n",
       "    <tr>\n",
       "      <th>2</th>\n",
       "      <td>Syrian Arab Republic</td>\n",
       "      <td>Rural Damascus</td>\n",
       "      <td>Rural Damascus</td>\n",
       "      <td>1354</td>\n",
       "      <td>Jaramana</td>\n",
       "      <td>2791</td>\n",
       "      <td>01/06/2023</td>\n",
       "      <td>Medium Risk</td>\n",
       "      <td>5.278072</td>\n",
       "      <td>9.0</td>\n",
       "      <td>10.000000</td>\n",
       "      <td>2.500000</td>\n",
       "      <td>7.5</td>\n",
       "      <td>10.0</td>\n",
       "      <td>7.142857</td>\n",
       "      <td>3.333333</td>\n",
       "      <td>8.75</td>\n",
       "      <td>10.0</td>\n",
       "      <td>Full</td>\n",
       "    </tr>\n",
       "    <tr>\n",
       "      <th>3</th>\n",
       "      <td>Syrian Arab Republic</td>\n",
       "      <td>Al-Hasakeh</td>\n",
       "      <td>Quamishli</td>\n",
       "      <td>1125</td>\n",
       "      <td>Quamishli</td>\n",
       "      <td>4970</td>\n",
       "      <td>22/01/2025</td>\n",
       "      <td>Low Risk</td>\n",
       "      <td>6.475245</td>\n",
       "      <td>5.0</td>\n",
       "      <td>10.000000</td>\n",
       "      <td>5.000000</td>\n",
       "      <td>10.0</td>\n",
       "      <td>NaN</td>\n",
       "      <td>NaN</td>\n",
       "      <td>NaN</td>\n",
       "      <td>NaN</td>\n",
       "      <td>NaN</td>\n",
       "      <td>Reduced</td>\n",
       "    </tr>\n",
       "    <tr>\n",
       "      <th>4</th>\n",
       "      <td>Syrian Arab Republic</td>\n",
       "      <td>Rural Damascus</td>\n",
       "      <td>Rural Damascus</td>\n",
       "      <td>2687</td>\n",
       "      <td>Saqba</td>\n",
       "      <td>2791</td>\n",
       "      <td>01/06/2023</td>\n",
       "      <td>Medium Risk</td>\n",
       "      <td>6.055994</td>\n",
       "      <td>8.0</td>\n",
       "      <td>10.000000</td>\n",
       "      <td>4.166667</td>\n",
       "      <td>7.5</td>\n",
       "      <td>10.0</td>\n",
       "      <td>6.428571</td>\n",
       "      <td>5.000000</td>\n",
       "      <td>6.25</td>\n",
       "      <td>10.0</td>\n",
       "      <td>Full</td>\n",
       "    </tr>\n",
       "  </tbody>\n",
       "</table>\n",
       "</div>"
      ],
      "text/plain": [
       "            CountryName        Adm1Name        Adm2Name  MarketID MarketName  \\\n",
       "0  Syrian Arab Republic      Al-Hasakeh       Quamishli      1125  Quamishli   \n",
       "1  Syrian Arab Republic     Deir-ez-Zor      Al Mayadin      5257   Sbeikhan   \n",
       "2  Syrian Arab Republic  Rural Damascus  Rural Damascus      1354   Jaramana   \n",
       "3  Syrian Arab Republic      Al-Hasakeh       Quamishli      1125  Quamishli   \n",
       "4  Syrian Arab Republic  Rural Damascus  Rural Damascus      2687      Saqba   \n",
       "\n",
       "   SurveyID  SurveyDate    MFIRiskLevel  MFIScore  Assortment  Availability  \\\n",
       "0      2791  01/06/2023  Very High Risk  3.991676         5.0     10.000000   \n",
       "1      2791  01/06/2023  Very High Risk  2.930879         4.0      8.333333   \n",
       "2      2791  01/06/2023     Medium Risk  5.278072         9.0     10.000000   \n",
       "3      4970  22/01/2025        Low Risk  6.475245         5.0     10.000000   \n",
       "4      2791  01/06/2023     Medium Risk  6.055994         8.0     10.000000   \n",
       "\n",
       "      Price  Resilience  Competition  Infrastructure   Service  Quality  \\\n",
       "0  0.000000         7.5         10.0       10.000000  5.000000    10.00   \n",
       "1  0.000000         7.5         10.0        5.714286  1.666667     1.25   \n",
       "2  2.500000         7.5         10.0        7.142857  3.333333     8.75   \n",
       "3  5.000000        10.0          NaN             NaN       NaN      NaN   \n",
       "4  4.166667         7.5         10.0        6.428571  5.000000     6.25   \n",
       "\n",
       "   AccessProtection SurveyType  \n",
       "0              10.0       Full  \n",
       "1              10.0       Full  \n",
       "2              10.0       Full  \n",
       "3               NaN    Reduced  \n",
       "4              10.0       Full  "
      ]
     },
     "execution_count": 7,
     "metadata": {},
     "output_type": "execute_result"
    }
   ],
   "source": [
    "from src.data_ag.market import download_market_assessment\n",
    "from src.data_ag.ids import MarketIdsManager\n",
    "\n",
    "marker_manager = MarketIdsManager()\n",
    "\n",
    "market_assessment = download_market_assessment(\n",
    "    adm0_codes=[adm0_code],\n",
    "    market_ids=marker_manager.get_market_ids_for_coutry(\"Syrian Arab Republic\"),\n",
    "    start_date=start_date,\n",
    "    end_date=end_date,\n",
    ")\n",
    "\n",
    "market_assessment.head()\n",
    "\n",
    "# plot MDIScore vs date?"
   ]
  },
  {
   "cell_type": "code",
   "execution_count": 8,
   "id": "606e525a",
   "metadata": {},
   "outputs": [
    {
     "data": {
      "application/vnd.microsoft.datawrangler.viewer.v0+json": {
       "columns": [
        {
         "name": "SurveyDate",
         "rawType": "datetime64[ns]",
         "type": "datetime"
        },
        {
         "name": "mean",
         "rawType": "float64",
         "type": "float"
        },
        {
         "name": "min",
         "rawType": "float64",
         "type": "float"
        },
        {
         "name": "max",
         "rawType": "float64",
         "type": "float"
        }
       ],
       "conversionMethod": "pd.DataFrame",
       "ref": "b76eaf4c-afd8-4af3-a925-b6998397c30f",
       "rows": [
        [
         "2023-01-31 00:00:00",
         "7.9323036670684814",
         "7.318387031555176",
         "8.179647445678711"
        ],
        [
         "2023-02-28 00:00:00",
         null,
         null,
         null
        ],
        [
         "2023-03-31 00:00:00",
         null,
         null,
         null
        ],
        [
         "2023-04-30 00:00:00",
         null,
         null,
         null
        ],
        [
         "2023-05-31 00:00:00",
         null,
         null,
         null
        ]
       ],
       "shape": {
        "columns": 3,
        "rows": 5
       }
      },
      "text/html": [
       "<div>\n",
       "<style scoped>\n",
       "    .dataframe tbody tr th:only-of-type {\n",
       "        vertical-align: middle;\n",
       "    }\n",
       "\n",
       "    .dataframe tbody tr th {\n",
       "        vertical-align: top;\n",
       "    }\n",
       "\n",
       "    .dataframe thead th {\n",
       "        text-align: right;\n",
       "    }\n",
       "</style>\n",
       "<table border=\"1\" class=\"dataframe\">\n",
       "  <thead>\n",
       "    <tr style=\"text-align: right;\">\n",
       "      <th></th>\n",
       "      <th>mean</th>\n",
       "      <th>min</th>\n",
       "      <th>max</th>\n",
       "    </tr>\n",
       "    <tr>\n",
       "      <th>SurveyDate</th>\n",
       "      <th></th>\n",
       "      <th></th>\n",
       "      <th></th>\n",
       "    </tr>\n",
       "  </thead>\n",
       "  <tbody>\n",
       "    <tr>\n",
       "      <th>2023-01-31</th>\n",
       "      <td>7.932304</td>\n",
       "      <td>7.318387</td>\n",
       "      <td>8.179647</td>\n",
       "    </tr>\n",
       "    <tr>\n",
       "      <th>2023-02-28</th>\n",
       "      <td>NaN</td>\n",
       "      <td>NaN</td>\n",
       "      <td>NaN</td>\n",
       "    </tr>\n",
       "    <tr>\n",
       "      <th>2023-03-31</th>\n",
       "      <td>NaN</td>\n",
       "      <td>NaN</td>\n",
       "      <td>NaN</td>\n",
       "    </tr>\n",
       "    <tr>\n",
       "      <th>2023-04-30</th>\n",
       "      <td>NaN</td>\n",
       "      <td>NaN</td>\n",
       "      <td>NaN</td>\n",
       "    </tr>\n",
       "    <tr>\n",
       "      <th>2023-05-31</th>\n",
       "      <td>NaN</td>\n",
       "      <td>NaN</td>\n",
       "      <td>NaN</td>\n",
       "    </tr>\n",
       "  </tbody>\n",
       "</table>\n",
       "</div>"
      ],
      "text/plain": [
       "                mean       min       max\n",
       "SurveyDate                              \n",
       "2023-01-31  7.932304  7.318387  8.179647\n",
       "2023-02-28       NaN       NaN       NaN\n",
       "2023-03-31       NaN       NaN       NaN\n",
       "2023-04-30       NaN       NaN       NaN\n",
       "2023-05-31       NaN       NaN       NaN"
      ]
     },
     "execution_count": 8,
     "metadata": {},
     "output_type": "execute_result"
    }
   ],
   "source": [
    "market_ass_monthly = preprocess_monthly(\n",
    "    market_assessment,\n",
    "    date_col=\"SurveyDate\",\n",
    "    value_col=\"MFIScore\"\n",
    ")\n",
    "market_ass_monthly.head()"
   ]
  },
  {
   "cell_type": "code",
   "execution_count": 22,
   "id": "f0baa2a1",
   "metadata": {},
   "outputs": [
    {
     "data": {
      "image/png": "[encoded data removed]",
      "text/plain": [
       "<Figure size 1000x500 with 1 Axes>"
      ]
     },
     "metadata": {},
     "output_type": "display_data"
    }
   ],
   "source": [
    "def plot_market_MFI(\n",
    "    market_ass_monthly: pd.DataFrame,\n",
    "):\n",
    "    fig, ax = plt.subplots(figsize=(10, 5))\n",
    "\n",
    "\n",
    "    # Parallel\n",
    "    y_par = market_ass_monthly['mean']\n",
    "    err_par = [y_par - market_ass_monthly['min'], market_ass_monthly['max'] - y_par]\n",
    "    ax.errorbar(\n",
    "        market_ass_monthly.index, y_par,\n",
    "        yerr=err_par,\n",
    "        marker='o', linestyle='-',\n",
    "        label='Parallel'\n",
    "    )\n",
    "\n",
    "    # formatting\n",
    "    ax.set_xlabel('Month')\n",
    "    ax.set_ylabel('MFIScore')\n",
    "    ax.set_title('MFIScores (mean ± min/max)')\n",
    "    ax.legend()\n",
    "\n",
    "    # <— NEW: show every month on the x–axis\n",
    "    ax.xaxis.set_major_locator(mdates.MonthLocator())              # one tick per month\n",
    "    ax.xaxis.set_major_formatter(mdates.DateFormatter('%b %Y'))    # e.g. \"Apr 2025\"\n",
    "\n",
    "    fig.autofmt_xdate()   # rotate & align\n",
    "    plt.tight_layout()\n",
    "    plt.show()\n",
    "\n",
    "\n",
    "plot_market_MFI(market_ass_monthly)"
   ]
  },
  {
   "cell_type": "markdown",
   "id": "37fe4119",
   "metadata": {},
   "source": [
    "## plot markets"
   ]
  },
  {
   "cell_type": "code",
   "execution_count": 12,
   "id": "2feb1195",
   "metadata": {},
   "outputs": [
    {
     "name": "stdout",
     "output_type": "stream",
     "text": [
      "Loading cached CSV from ./cache/downlaod_comodity_ids_44e701bb39f5181ded684a5133c82caa.csv\n",
      "Cached CSV saved to ./cache/download_prices_77a6587bd13540f64d835e5c20f1eff3.csv\n"
     ]
    },
    {
     "data": {
      "application/vnd.microsoft.datawrangler.viewer.v0+json": {
       "columns": [
        {
         "name": "index",
         "rawType": "int64",
         "type": "integer"
        },
        {
         "name": "Country",
         "rawType": "object",
         "type": "string"
        },
        {
         "name": "Admin 1",
         "rawType": "object",
         "type": "string"
        },
        {
         "name": "Admin 2",
         "rawType": "object",
         "type": "string"
        },
        {
         "name": "Market Name",
         "rawType": "object",
         "type": "string"
        },
        {
         "name": "Commodity",
         "rawType": "object",
         "type": "string"
        },
        {
         "name": "Price Type",
         "rawType": "object",
         "type": "string"
        },
        {
         "name": "Price Date",
         "rawType": "object",
         "type": "string"
        },
        {
         "name": "Collection Frequency",
         "rawType": "object",
         "type": "string"
        },
        {
         "name": "Price",
         "rawType": "float64",
         "type": "float"
        },
        {
         "name": "Unit",
         "rawType": "object",
         "type": "string"
        },
        {
         "name": "Currency",
         "rawType": "object",
         "type": "string"
        },
        {
         "name": "Data Source",
         "rawType": "object",
         "type": "string"
        },
        {
         "name": "Trend",
         "rawType": "float64",
         "type": "float"
        },
        {
         "name": "Pewi",
         "rawType": "float64",
         "type": "float"
        },
        {
         "name": "ALPS Phase",
         "rawType": "object",
         "type": "string"
        },
        {
         "name": "Data Type",
         "rawType": "object",
         "type": "string"
        },
        {
         "name": "Upper (95%) CI",
         "rawType": "float64",
         "type": "float"
        },
        {
         "name": "Lower (95%) CI",
         "rawType": "float64",
         "type": "float"
        },
        {
         "name": "Forecast Methodology",
         "rawType": "float64",
         "type": "float"
        }
       ],
       "conversionMethod": "pd.DataFrame",
       "ref": "a9825d1e-80bc-408c-8565-a5da11fc32db",
       "rows": [
        [
         "0",
         "Syrian Arab Republic",
         "Aleppo",
         "A'zaz",
         "A'zaz",
         "Alcohol (spray)",
         "Retail",
         "15/01/2023",
         "Weekly",
         "7200.0",
         "200 ML",
         "SYP",
         "WFP Syria CO",
         "5544.3643",
         "1.923",
         "Alert",
         "Aggregated",
         null,
         null,
         null
        ],
        [
         "1",
         "Syrian Arab Republic",
         "Aleppo",
         "A'zaz",
         "A'zaz",
         "Alcohol (spray)",
         "Retail",
         "15/02/2023",
         "Weekly",
         "7531.884056",
         "200 ML",
         "SYP",
         "WFP Syria CO",
         "5818.7856",
         "1.9897",
         "Alert",
         "Aggregated",
         null,
         null,
         null
        ],
        [
         "2",
         "Syrian Arab Republic",
         "Aleppo",
         "A'zaz",
         "A'zaz",
         "Alcohol (spray)",
         "Retail",
         "15/03/2023",
         "Weekly",
         "7808.731164",
         "200 ML",
         "SYP",
         "WFP Syria CO",
         "6084.7739",
         "1.9801",
         "Alert",
         "Aggregated",
         null,
         null,
         null
        ],
        [
         "3",
         "Syrian Arab Republic",
         "Aleppo",
         "A'zaz",
         "A'zaz",
         "Alcohol (spray)",
         "Retail",
         "15/04/2023",
         "Weekly",
         "8067.0",
         "200 ML",
         "SYP",
         "WFP Syria CO",
         "6460.4233",
         "1.7482",
         "Alert",
         "Aggregated",
         null,
         null,
         null
        ],
        [
         "4",
         "Syrian Arab Republic",
         "Aleppo",
         "A'zaz",
         "A'zaz",
         "Alcohol (spray)",
         "Retail",
         "15/06/2023",
         "Weekly",
         "8475.640958",
         "200 ML",
         "SYP",
         "WFP Syria CO",
         "6799.2456",
         "1.7344",
         "Alert",
         "Aggregated",
         null,
         null,
         null
        ]
       ],
       "shape": {
        "columns": 19,
        "rows": 5
       }
      },
      "text/html": [
       "<div>\n",
       "<style scoped>\n",
       "    .dataframe tbody tr th:only-of-type {\n",
       "        vertical-align: middle;\n",
       "    }\n",
       "\n",
       "    .dataframe tbody tr th {\n",
       "        vertical-align: top;\n",
       "    }\n",
       "\n",
       "    .dataframe thead th {\n",
       "        text-align: right;\n",
       "    }\n",
       "</style>\n",
       "<table border=\"1\" class=\"dataframe\">\n",
       "  <thead>\n",
       "    <tr style=\"text-align: right;\">\n",
       "      <th></th>\n",
       "      <th>Country</th>\n",
       "      <th>Admin 1</th>\n",
       "      <th>Admin 2</th>\n",
       "      <th>Market Name</th>\n",
       "      <th>Commodity</th>\n",
       "      <th>Price Type</th>\n",
       "      <th>Price Date</th>\n",
       "      <th>Collection Frequency</th>\n",
       "      <th>Price</th>\n",
       "      <th>Unit</th>\n",
       "      <th>Currency</th>\n",
       "      <th>Data Source</th>\n",
       "      <th>Trend</th>\n",
       "      <th>Pewi</th>\n",
       "      <th>ALPS Phase</th>\n",
       "      <th>Data Type</th>\n",
       "      <th>Upper (95%) CI</th>\n",
       "      <th>Lower (95%) CI</th>\n",
       "      <th>Forecast Methodology</th>\n",
       "    </tr>\n",
       "  </thead>\n",
       "  <tbody>\n",
       "    <tr>\n",
       "      <th>0</th>\n",
       "      <td>Syrian Arab Republic</td>\n",
       "      <td>Aleppo</td>\n",
       "      <td>A'zaz</td>\n",
       "      <td>A'zaz</td>\n",
       "      <td>Alcohol (spray)</td>\n",
       "      <td>Retail</td>\n",
       "      <td>15/01/2023</td>\n",
       "      <td>Weekly</td>\n",
       "      <td>7200.000000</td>\n",
       "      <td>200 ML</td>\n",
       "      <td>SYP</td>\n",
       "      <td>WFP Syria CO</td>\n",
       "      <td>5544.3643</td>\n",
       "      <td>1.9230</td>\n",
       "      <td>Alert</td>\n",
       "      <td>Aggregated</td>\n",
       "      <td>NaN</td>\n",
       "      <td>NaN</td>\n",
       "      <td>NaN</td>\n",
       "    </tr>\n",
       "    <tr>\n",
       "      <th>1</th>\n",
       "      <td>Syrian Arab Republic</td>\n",
       "      <td>Aleppo</td>\n",
       "      <td>A'zaz</td>\n",
       "      <td>A'zaz</td>\n",
       "      <td>Alcohol (spray)</td>\n",
       "      <td>Retail</td>\n",
       "      <td>15/02/2023</td>\n",
       "      <td>Weekly</td>\n",
       "      <td>7531.884056</td>\n",
       "      <td>200 ML</td>\n",
       "      <td>SYP</td>\n",
       "      <td>WFP Syria CO</td>\n",
       "      <td>5818.7856</td>\n",
       "      <td>1.9897</td>\n",
       "      <td>Alert</td>\n",
       "      <td>Aggregated</td>\n",
       "      <td>NaN</td>\n",
       "      <td>NaN</td>\n",
       "      <td>NaN</td>\n",
       "    </tr>\n",
       "    <tr>\n",
       "      <th>2</th>\n",
       "      <td>Syrian Arab Republic</td>\n",
       "      <td>Aleppo</td>\n",
       "      <td>A'zaz</td>\n",
       "      <td>A'zaz</td>\n",
       "      <td>Alcohol (spray)</td>\n",
       "      <td>Retail</td>\n",
       "      <td>15/03/2023</td>\n",
       "      <td>Weekly</td>\n",
       "      <td>7808.731164</td>\n",
       "      <td>200 ML</td>\n",
       "      <td>SYP</td>\n",
       "      <td>WFP Syria CO</td>\n",
       "      <td>6084.7739</td>\n",
       "      <td>1.9801</td>\n",
       "      <td>Alert</td>\n",
       "      <td>Aggregated</td>\n",
       "      <td>NaN</td>\n",
       "      <td>NaN</td>\n",
       "      <td>NaN</td>\n",
       "    </tr>\n",
       "    <tr>\n",
       "      <th>3</th>\n",
       "      <td>Syrian Arab Republic</td>\n",
       "      <td>Aleppo</td>\n",
       "      <td>A'zaz</td>\n",
       "      <td>A'zaz</td>\n",
       "      <td>Alcohol (spray)</td>\n",
       "      <td>Retail</td>\n",
       "      <td>15/04/2023</td>\n",
       "      <td>Weekly</td>\n",
       "      <td>8067.000000</td>\n",
       "      <td>200 ML</td>\n",
       "      <td>SYP</td>\n",
       "      <td>WFP Syria CO</td>\n",
       "      <td>6460.4233</td>\n",
       "      <td>1.7482</td>\n",
       "      <td>Alert</td>\n",
       "      <td>Aggregated</td>\n",
       "      <td>NaN</td>\n",
       "      <td>NaN</td>\n",
       "      <td>NaN</td>\n",
       "    </tr>\n",
       "    <tr>\n",
       "      <th>4</th>\n",
       "      <td>Syrian Arab Republic</td>\n",
       "      <td>Aleppo</td>\n",
       "      <td>A'zaz</td>\n",
       "      <td>A'zaz</td>\n",
       "      <td>Alcohol (spray)</td>\n",
       "      <td>Retail</td>\n",
       "      <td>15/06/2023</td>\n",
       "      <td>Weekly</td>\n",
       "      <td>8475.640958</td>\n",
       "      <td>200 ML</td>\n",
       "      <td>SYP</td>\n",
       "      <td>WFP Syria CO</td>\n",
       "      <td>6799.2456</td>\n",
       "      <td>1.7344</td>\n",
       "      <td>Alert</td>\n",
       "      <td>Aggregated</td>\n",
       "      <td>NaN</td>\n",
       "      <td>NaN</td>\n",
       "      <td>NaN</td>\n",
       "    </tr>\n",
       "  </tbody>\n",
       "</table>\n",
       "</div>"
      ],
      "text/plain": [
       "                Country Admin 1 Admin 2 Market Name        Commodity  \\\n",
       "0  Syrian Arab Republic  Aleppo   A'zaz       A'zaz  Alcohol (spray)   \n",
       "1  Syrian Arab Republic  Aleppo   A'zaz       A'zaz  Alcohol (spray)   \n",
       "2  Syrian Arab Republic  Aleppo   A'zaz       A'zaz  Alcohol (spray)   \n",
       "3  Syrian Arab Republic  Aleppo   A'zaz       A'zaz  Alcohol (spray)   \n",
       "4  Syrian Arab Republic  Aleppo   A'zaz       A'zaz  Alcohol (spray)   \n",
       "\n",
       "  Price Type  Price Date Collection Frequency        Price    Unit Currency  \\\n",
       "0     Retail  15/01/2023               Weekly  7200.000000  200 ML      SYP   \n",
       "1     Retail  15/02/2023               Weekly  7531.884056  200 ML      SYP   \n",
       "2     Retail  15/03/2023               Weekly  7808.731164  200 ML      SYP   \n",
       "3     Retail  15/04/2023               Weekly  8067.000000  200 ML      SYP   \n",
       "4     Retail  15/06/2023               Weekly  8475.640958  200 ML      SYP   \n",
       "\n",
       "    Data Source      Trend    Pewi ALPS Phase   Data Type  Upper (95%) CI  \\\n",
       "0  WFP Syria CO  5544.3643  1.9230      Alert  Aggregated             NaN   \n",
       "1  WFP Syria CO  5818.7856  1.9897      Alert  Aggregated             NaN   \n",
       "2  WFP Syria CO  6084.7739  1.9801      Alert  Aggregated             NaN   \n",
       "3  WFP Syria CO  6460.4233  1.7482      Alert  Aggregated             NaN   \n",
       "4  WFP Syria CO  6799.2456  1.7344      Alert  Aggregated             NaN   \n",
       "\n",
       "   Lower (95%) CI  Forecast Methodology  \n",
       "0             NaN                   NaN  \n",
       "1             NaN                   NaN  \n",
       "2             NaN                   NaN  \n",
       "3             NaN                   NaN  \n",
       "4             NaN                   NaN  "
      ]
     },
     "execution_count": 12,
     "metadata": {},
     "output_type": "execute_result"
    }
   ],
   "source": [
    "from src.data_ag.prices import download_prices\n",
    "from src.data_ag.ids import ComodityIdsManager\n",
    "\n",
    "comm_ids = ComodityIdsManager()\n",
    "\n",
    "\n",
    "\n",
    "prices_data = download_prices(\n",
    "    start_date=start_date,\n",
    "    end_date=end_date,\n",
    "    commodity_ids=comm_ids.get_all_ids(),\n",
    "    market_ids=marker_manager.get_market_ids_for_coutry(\"Syrian Arab Republic\"),\n",
    ")\n",
    "\n",
    "prices_data.head()"
   ]
  },
  {
   "cell_type": "code",
   "execution_count": 25,
   "id": "c04fd178",
   "metadata": {},
   "outputs": [
    {
     "data": {
      "text/plain": [
       "Index(['Country', 'Admin 1', 'Admin 2', 'Market Name', 'Commodity',\n",
       "       'Price Type', 'Price Date', 'Collection Frequency', 'Price', 'Unit',\n",
       "       'Currency', 'Data Source', 'Trend', 'Pewi', 'ALPS Phase', 'Data Type',\n",
       "       'Upper (95%) CI', 'Lower (95%) CI', 'Forecast Methodology'],\n",
       "      dtype='object')"
      ]
     },
     "execution_count": 25,
     "metadata": {},
     "output_type": "execute_result"
    }
   ],
   "source": [
    "prices_data.columns"
   ]
  },
  {
   "cell_type": "code",
   "execution_count": 23,
   "id": "ab765d8b",
   "metadata": {},
   "outputs": [
    {
     "data": {
      "image/png": "[encoded data removed]",
      "text/plain": [
       "<Figure size 1000x600 with 1 Axes>"
      ]
     },
     "metadata": {},
     "output_type": "display_data"
    }
   ],
   "source": [
    "import pandas as pd\n",
    "import matplotlib.pyplot as plt\n",
    "\n",
    "def plot_commodity_trends(df: pd.DataFrame, commodities: list[str]) -> pd.DataFrame:\n",
    "    \"\"\"\n",
    "    Filter df to only the given commodities, aggregate by calendar month,\n",
    "    compute average Price, and plot the time‐series.\n",
    "    \n",
    "    Parameters\n",
    "    ----------\n",
    "    df : pd.DataFrame\n",
    "        Must contain at least these columns:\n",
    "        - 'Commodity'\n",
    "        - 'Price Date' (e.g. '15/01/2023')\n",
    "        - 'Price' (numeric)\n",
    "    commodities : list[str]\n",
    "        List of commodity names to include.\n",
    "    \n",
    "    Returns\n",
    "    -------\n",
    "    pd.DataFrame\n",
    "        A pivoted table of average prices with\n",
    "        index=Month (as Timestamp at first of month),\n",
    "        columns=Commodity.\n",
    "    \"\"\"\n",
    "    # 1. Filter\n",
    "    df_filt = df[df['Commodity'].isin(commodities)].copy()\n",
    "    \n",
    "    # 2. Parse dates and floor to month\n",
    "    df_filt['Price Date'] = pd.to_datetime(df_filt['Price Date'], dayfirst=True)\n",
    "    df_filt['Month'] = df_filt['Price Date'].dt.to_period('M').dt.to_timestamp()\n",
    "    \n",
    "    # 3. Group & average\n",
    "    monthly = (\n",
    "        df_filt\n",
    "        .groupby(['Month', 'Commodity'])['Price']\n",
    "        .mean()\n",
    "        .reset_index()\n",
    "        .pivot(index='Month', columns='Commodity', values='Price')\n",
    "        .sort_index()\n",
    "    )\n",
    "    \n",
    "    # 4. Plot\n",
    "    ax = monthly.plot(\n",
    "        marker='o',\n",
    "        figsize=(10, 6),\n",
    "        linewidth=2,\n",
    "        title='Monthly Average Price by Commodity'\n",
    "    )\n",
    "    ax.set_xlabel('Month')\n",
    "    ax.set_ylabel('Average Price')\n",
    "    ax.legend(title='Commodity')\n",
    "    plt.tight_layout()\n",
    "    plt.show()\n",
    "    \n",
    "    return monthly\n",
    "\n",
    "\n",
    "commodities_to_track = [\n",
    "    # checken eggs, sugar,\n",
    "    \"Sugar\",\n",
    "    \"Water (drinking)\",\n",
    "    \"Wheat flour\",\n",
    "    \"Eggs\",\n",
    "]\n",
    "\n",
    "monthly_avg_df = plot_commodity_trends(prices_data, commodities_to_track)\n",
    "# monthly_avg_df.head()"
   ]
  },
  {
   "cell_type": "code",
   "execution_count": 24,
   "id": "a3fcf287",
   "metadata": {},
   "outputs": [
    {
     "data": {
      "image/png": "[encoded data removed]",
      "text/plain": [
       "<Figure size 1000x800 with 4 Axes>"
      ]
     },
     "metadata": {},
     "output_type": "display_data"
    }
   ],
   "source": [
    "import math\n",
    "\n",
    "def plot_many_with_independent_axes(monthly: pd.DataFrame, commodities: list[str], ncols: int = 2):\n",
    "    \"\"\"\n",
    "    monthly: DataFrame indexed by Month, columns are commodity names.\n",
    "    commodities: list of commodity names to plot.\n",
    "    ncols: how many subplots per row.\n",
    "    \"\"\"\n",
    "    n = len(commodities)\n",
    "    nrows = math.ceil(n / ncols)\n",
    "    fig, axes = plt.subplots(nrows=nrows, ncols=ncols, figsize=(5*ncols, 4*nrows), sharex=True)\n",
    "    axes = axes.flatten()\n",
    "    \n",
    "    for ax, comm in zip(axes, commodities):\n",
    "        series = monthly.get(comm)\n",
    "        if series is None:\n",
    "            ax.set_visible(False)\n",
    "            continue\n",
    "        series.plot(ax=ax, marker='o', linewidth=2)\n",
    "        ax.set_title(comm)\n",
    "        ax.set_ylabel(\"Price\")\n",
    "        ax.grid(True, alpha=0.3)\n",
    "    \n",
    "    # hide any unused axes\n",
    "    for ax in axes[n:]:\n",
    "        ax.set_visible(False)\n",
    "    \n",
    "    fig.suptitle(\"Monthly Average Prices by Commodity\", fontsize=16)\n",
    "    plt.tight_layout(rect=[0, 0, 1, 0.96])\n",
    "    plt.show()\n",
    "plot_many_with_independent_axes(monthly_avg_df, commodities_to_track, ncols=2)"
   ]
  },
  {
   "cell_type": "code",
   "execution_count": null,
   "id": "e5525ea9",
   "metadata": {},
   "outputs": [],
   "source": []
  }
 ],
 "metadata": {
  "kernelspec": {
   "display_name": "uni",
   "language": "python",
   "name": "python3"
  },
  "language_info": {
   "codemirror_mode": {
    "name": "ipython",
    "version": 3
   },
   "file_extension": ".py",
   "mimetype": "text/x-python",
   "name": "python",
   "nbconvert_exporter": "python",
   "pygments_lexer": "ipython3",
   "version": "3.10.11"
  }
 },
 "nbformat": 4,
 "nbformat_minor": 5
}
